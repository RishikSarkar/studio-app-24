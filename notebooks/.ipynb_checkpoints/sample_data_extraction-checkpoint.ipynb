{
 "cells": [
  {
   "cell_type": "markdown",
   "id": "205896e9-3053-4a20-af30-909ded6f0fee",
   "metadata": {},
   "source": [
    "## 1. Installing + Importing Dependencies"
   ]
  },
  {
   "cell_type": "code",
   "execution_count": null,
   "id": "28d91ea0-c2b1-472a-9000-6a6de0743803",
   "metadata": {},
   "outputs": [],
   "source": [
    "# PDF parsing\n",
    "from pdfminer.high_level import extract_text\n",
    "\n",
    "# NLP libraries\n",
    "import spacy\n",
    "\n",
    "# Text processing\n",
    "import re\n",
    "\n",
    "# Data manipulation and visualization\n",
    "import pandas as pd\n",
    "import matplotlib.pyplot as plt\n",
    "import seaborn as sns\n",
    "\n",
    "# JSON data\n",
    "import json\n",
    "\n",
    "# System operations\n",
    "import os"
   ]
  },
  {
   "cell_type": "code",
   "execution_count": null,
   "id": "36655c8a-605d-40bb-99c1-ad253e2f3295",
   "metadata": {},
   "outputs": [],
   "source": [
    "nlp = spacy.load('en_core_web_sm')"
   ]
  },
  {
   "cell_type": "code",
   "execution_count": null,
   "id": "09d2d48b-a3cc-4811-b0de-c917e4538d27",
   "metadata": {},
   "outputs": [],
   "source": [
    "sample_text = 'We are excited to simplify the IRB approval process!'\n",
    "\n",
    "doc = nlp(sample_text)\n",
    "\n",
    "sentences = [sent.text for sent in doc.sents]\n",
    "print(f'Sentences: {sentences}')"
   ]
  },
  {
   "cell_type": "markdown",
   "id": "85c085cb-2b32-44e2-afaf-35b49c0bb4d4",
   "metadata": {},
   "source": [
    "## 2. Sample IRB PDF Parsing"
   ]
  },
  {
   "cell_type": "code",
   "execution_count": null,
   "id": "18e6d62e-6c6a-449b-aa2f-0283abfcb9fb",
   "metadata": {},
   "outputs": [],
   "source": [
    "pdf_path = os.path.join('data', 'raw', 'nhsr_guidance.pdf')"
   ]
  },
  {
   "cell_type": "markdown",
   "id": "b12503a6-6e51-4378-953b-bda815b893ea",
   "metadata": {},
   "source": [
    "### 2.1. Text Extraction"
   ]
  },
  {
   "cell_type": "code",
   "execution_count": null,
   "id": "fc307e72-a193-408b-9234-f7ea28082111",
   "metadata": {},
   "outputs": [],
   "source": [
    "try:\n",
    "    text = extract_text(pdf_path)\n",
    "    print('PDF text extraction successful!')\n",
    "    print(f'First 800 characters of extracted text: {text[:800]}')\n",
    "except Exception as e:\n",
    "    print(f'An error occurred during PDF text extraction: {e}')"
   ]
  },
  {
   "cell_type": "markdown",
   "id": "49205bb4-8989-4981-8a9b-fb64447875f4",
   "metadata": {},
   "source": [
    "### 2.2. Text Pre-processing"
   ]
  },
  {
   "cell_type": "code",
   "execution_count": null,
   "id": "31d521f3-b565-46ed-a728-27eeac691155",
   "metadata": {},
   "outputs": [],
   "source": [
    "def clean_text(text):\n",
    "    text = re.sub(r'Page\\s+\\d+\\s+of\\s+\\d+', '', text) # Remove Page X of Y patterns\n",
    "    \n",
    "    lines = text.split('\\n')\n",
    "    cleaned_lines = [line for line in lines if not re.fullmatch(r'\\w', line.strip())] # Remove lines with only a single character\n",
    "    text = ' '.join(cleaned_lines)\n",
    "    \n",
    "    text = re.sub(r'\\s+', ' ', text) # Remove multiple spaces and newlines\n",
    "    return text.strip()"
   ]
  },
  {
   "cell_type": "code",
   "execution_count": null,
   "id": "3b341f31-732b-4247-8c74-3d8801d6702d",
   "metadata": {},
   "outputs": [],
   "source": [
    "cleaned_text = clean_text(text)\n",
    "\n",
    "print(f'First 800 characters of cleaned text:\\n\\n{cleaned_text[:800]}')"
   ]
  },
  {
   "cell_type": "code",
   "execution_count": null,
   "id": "87f44e83-87fe-4dab-ac22-9f7873d68af6",
   "metadata": {},
   "outputs": [],
   "source": [
    "def normalize_text(text):\n",
    "    text = re.sub(r'[^\\w\\s\\.,!?;:/]', '', text) # Remove special characters except necessary punctuation (e.g., '/' for dates)\n",
    "    text = re.sub(r'\\s+', ' ', text) # Replace multiple spaces with a single space\n",
    "    return text.strip()"
   ]
  },
  {
   "cell_type": "code",
   "execution_count": null,
   "id": "20dd6312-08d0-49a4-afe2-45706746decc",
   "metadata": {},
   "outputs": [],
   "source": [
    "normalized_text = normalize_text(cleaned_text)\n",
    "\n",
    "print(f'First 800 characters of normalized text:\\n\\n{normalized_text[:800]}')"
   ]
  },
  {
   "cell_type": "markdown",
   "id": "565fbb66-af05-4584-b1f1-cf26225cb590",
   "metadata": {},
   "source": [
    "### 2.3. Sentence Segmentation"
   ]
  },
  {
   "cell_type": "code",
   "execution_count": null,
   "id": "98484edc-b9d2-4be2-8996-c36095f7f3b8",
   "metadata": {},
   "outputs": [],
   "source": [
    "doc = nlp(normalized_text)"
   ]
  },
  {
   "cell_type": "code",
   "execution_count": null,
   "id": "828ad769-f34f-4d1c-8fec-bd5dc539a2ca",
   "metadata": {},
   "outputs": [],
   "source": [
    "sentences = [sent.text for sent in doc.sents]\n",
    "\n",
    "print(f'Total sentences extracted: {len(sentences)}')\n",
    "print('First 10 sentences:\\n')\n",
    "for i, sentence in enumerate(sentences[:10], 1):\n",
    "    print(f\"{i}. {sentence}\")"
   ]
  },
  {
   "cell_type": "code",
   "execution_count": null,
   "id": "bc612ebf-c4bb-42a2-9ba1-3b8ba0c16c0e",
   "metadata": {},
   "outputs": [],
   "source": []
  }
 ],
 "metadata": {
  "kernelspec": {
   "display_name": "Python 3 (ipykernel)",
   "language": "python",
   "name": "python3"
  },
  "language_info": {
   "codemirror_mode": {
    "name": "ipython",
    "version": 3
   },
   "file_extension": ".py",
   "mimetype": "text/x-python",
   "name": "python",
   "nbconvert_exporter": "python",
   "pygments_lexer": "ipython3",
   "version": "3.12.5"
  }
 },
 "nbformat": 4,
 "nbformat_minor": 5
}
