{
 "cells": [
  {
   "cell_type": "markdown",
   "id": "205896e9-3053-4a20-af30-909ded6f0fee",
   "metadata": {},
   "source": [
    "## 1. Installing + Importing Dependencies"
   ]
  },
  {
   "cell_type": "code",
   "execution_count": 1,
   "id": "28d91ea0-c2b1-472a-9000-6a6de0743803",
   "metadata": {},
   "outputs": [],
   "source": [
    "# PDF parsing\n",
    "from pdfminer.high_level import extract_text\n",
    "\n",
    "# NLP libraries\n",
    "import spacy\n",
    "\n",
    "# Text processing\n",
    "import re\n",
    "\n",
    "# Data manipulation and visualization\n",
    "import pandas as pd\n",
    "import matplotlib.pyplot as plt\n",
    "import seaborn as sns\n",
    "\n",
    "# JSON data\n",
    "import json\n",
    "\n",
    "# System operations\n",
    "import os"
   ]
  },
  {
   "cell_type": "code",
   "execution_count": 2,
   "id": "36655c8a-605d-40bb-99c1-ad253e2f3295",
   "metadata": {},
   "outputs": [],
   "source": [
    "nlp = spacy.load('en_core_web_sm')"
   ]
  },
  {
   "cell_type": "code",
   "execution_count": 3,
   "id": "09d2d48b-a3cc-4811-b0de-c917e4538d27",
   "metadata": {},
   "outputs": [
    {
     "name": "stdout",
     "output_type": "stream",
     "text": [
      "Sentences: ['We are excited to simplify the IRB approval process!']\n"
     ]
    }
   ],
   "source": [
    "sample_text = 'We are excited to simplify the IRB approval process!'\n",
    "\n",
    "doc = nlp(sample_text)\n",
    "\n",
    "sentences = [sent.text for sent in doc.sents]\n",
    "print(f'Sentences: {sentences}')"
   ]
  },
  {
   "cell_type": "markdown",
   "id": "85c085cb-2b32-44e2-afaf-35b49c0bb4d4",
   "metadata": {},
   "source": [
    "## 2. Sample IRB PDF Parsing"
   ]
  },
  {
   "cell_type": "code",
   "execution_count": 4,
   "id": "18e6d62e-6c6a-449b-aa2f-0283abfcb9fb",
   "metadata": {},
   "outputs": [],
   "source": [
    "pdf_path = os.path.join('data', 'raw', 'nhsr_guidance.pdf')"
   ]
  },
  {
   "cell_type": "markdown",
   "id": "b12503a6-6e51-4378-953b-bda815b893ea",
   "metadata": {},
   "source": [
    "### 2.1. Text Extraction"
   ]
  },
  {
   "cell_type": "code",
   "execution_count": 5,
   "id": "fc307e72-a193-408b-9234-f7ea28082111",
   "metadata": {},
   "outputs": [
    {
     "name": "stdout",
     "output_type": "stream",
     "text": [
      "PDF text extraction successful!\n",
      "First 800 characters of extracted text: Guidance Document \n",
      "Version Date: 5/11/2023 \n",
      "\n",
      "Not Human Subjects Research Determination \n",
      "\n",
      "45CFR46 and 21CFR50 apply to all research involving human subjects conducted, supported, or \n",
      "otherwise subject to regulation by any Federal department or agency that takes appropriate \n",
      "administrative action to make the policy applicable to such research.  As a result, IRBs must first \n",
      "determine that proposed activities meet the definitions of ‘research’ and ‘human subjects’ defined in the \n",
      "regulations. \n",
      "\n",
      "Introduction \n",
      "\n",
      "This document is designed to provide an approach to determining when a proposed activity is human \n",
      "subjects research.  Note, if WCM is not engaged in the research, there is no need to approach the \n",
      "human subjects research definition.  If WCM is engaged, first, the proposed activity must \n"
     ]
    }
   ],
   "source": [
    "try:\n",
    "    text = extract_text(pdf_path)\n",
    "    print('PDF text extraction successful!')\n",
    "    print(f'First 800 characters of extracted text: {text[:800]}')\n",
    "except Exception as e:\n",
    "    print(f'An error occurred during PDF text extraction: {e}')"
   ]
  },
  {
   "cell_type": "markdown",
   "id": "49205bb4-8989-4981-8a9b-fb64447875f4",
   "metadata": {},
   "source": [
    "### 2.2. Text Pre-processing"
   ]
  },
  {
   "cell_type": "code",
   "execution_count": 6,
   "id": "31d521f3-b565-46ed-a728-27eeac691155",
   "metadata": {},
   "outputs": [],
   "source": [
    "def clean_text(text):\n",
    "    text = re.sub(r'Page\\s+\\d+\\s+of\\s+\\d+', '', text) # Remove Page X of Y patterns\n",
    "    \n",
    "    lines = text.split('\\n')\n",
    "    cleaned_lines = [line for line in lines if not re.fullmatch(r'\\w', line.strip())] # Remove lines with only a single character\n",
    "    text = ' '.join(cleaned_lines)\n",
    "    \n",
    "    text = re.sub(r'\\s+', ' ', text) # Remove multiple spaces and newlines\n",
    "    return text.strip()"
   ]
  },
  {
   "cell_type": "code",
   "execution_count": 7,
   "id": "3b341f31-732b-4247-8c74-3d8801d6702d",
   "metadata": {},
   "outputs": [
    {
     "name": "stdout",
     "output_type": "stream",
     "text": [
      "First 800 characters of cleaned text:\n",
      "\n",
      "Guidance Document Version Date: 5/11/2023 Not Human Subjects Research Determination 45CFR46 and 21CFR50 apply to all research involving human subjects conducted, supported, or otherwise subject to regulation by any Federal department or agency that takes appropriate administrative action to make the policy applicable to such research. As a result, IRBs must first determine that proposed activities meet the definitions of ‘research’ and ‘human subjects’ defined in the regulations. Introduction This document is designed to provide an approach to determining when a proposed activity is human subjects research. Note, if WCM is not engaged in the research, there is no need to approach the human subjects research definition. If WCM is engaged, first, the proposed activity must satisfy the defini\n"
     ]
    }
   ],
   "source": [
    "cleaned_text = clean_text(text)\n",
    "\n",
    "print(f'First 800 characters of cleaned text:\\n\\n{cleaned_text[:800]}')"
   ]
  },
  {
   "cell_type": "code",
   "execution_count": 8,
   "id": "87f44e83-87fe-4dab-ac22-9f7873d68af6",
   "metadata": {},
   "outputs": [],
   "source": [
    "def normalize_text(text):\n",
    "    text = re.sub(r'[^\\w\\s\\.,!?;:/]', '', text) # Remove special characters except necessary punctuation (e.g., '/' for dates)\n",
    "    text = re.sub(r'\\s+', ' ', text) # Replace multiple spaces with a single space\n",
    "    return text.strip()"
   ]
  },
  {
   "cell_type": "code",
   "execution_count": 9,
   "id": "20dd6312-08d0-49a4-afe2-45706746decc",
   "metadata": {},
   "outputs": [
    {
     "name": "stdout",
     "output_type": "stream",
     "text": [
      "First 800 characters of normalized text:\n",
      "\n",
      "Guidance Document Version Date: 5/11/2023 Not Human Subjects Research Determination 45CFR46 and 21CFR50 apply to all research involving human subjects conducted, supported, or otherwise subject to regulation by any Federal department or agency that takes appropriate administrative action to make the policy applicable to such research. As a result, IRBs must first determine that proposed activities meet the definitions of research and human subjects defined in the regulations. Introduction This document is designed to provide an approach to determining when a proposed activity is human subjects research. Note, if WCM is not engaged in the research, there is no need to approach the human subjects research definition. If WCM is engaged, first, the proposed activity must satisfy the definition\n"
     ]
    }
   ],
   "source": [
    "normalized_text = normalize_text(cleaned_text)\n",
    "\n",
    "print(f'First 800 characters of normalized text:\\n\\n{normalized_text[:800]}')"
   ]
  },
  {
   "cell_type": "markdown",
   "id": "565fbb66-af05-4584-b1f1-cf26225cb590",
   "metadata": {},
   "source": [
    "### 2.3. Sentence Segmentation"
   ]
  },
  {
   "cell_type": "code",
   "execution_count": 10,
   "id": "98484edc-b9d2-4be2-8996-c36095f7f3b8",
   "metadata": {},
   "outputs": [],
   "source": [
    "doc = nlp(normalized_text)"
   ]
  },
  {
   "cell_type": "code",
   "execution_count": 11,
   "id": "828ad769-f34f-4d1c-8fec-bd5dc539a2ca",
   "metadata": {},
   "outputs": [
    {
     "name": "stdout",
     "output_type": "stream",
     "text": [
      "Total sentences extracted: 165\n",
      "First 10 sentences:\n",
      "\n",
      "1. Guidance Document Version Date: 5/11/2023 Not Human Subjects Research Determination 45CFR46 and 21CFR50 apply to all research involving human subjects conducted, supported, or otherwise subject to regulation by any Federal department or agency that takes appropriate administrative action to make the policy applicable to such research.\n",
      "2. As a result, IRBs must first determine that proposed activities meet the definitions of research and human subjects defined in the regulations.\n",
      "3. Introduction This document is designed to provide an approach to determining when a proposed activity is human subjects research.\n",
      "4. Note, if WCM is not engaged in the research, there is no need to approach the human subjects research definition.\n",
      "5. If WCM is engaged, first, the proposed activity must satisfy the definition of research.\n",
      "6. If the proposed activity meets this definition, and only if it meets this definition, IRBs may then approach the human subjects definition.\n",
      "7. Often researchers feel that if it involves human subjects it must require IRB review; this is not always the case.\n",
      "8. If the proposed activity does not satisfy the research definition first, the involvement of humans as participants is irrelevant, even if sensitive information is being collected.\n",
      "9. It is important to note that risk is not a deciding factor as to whether a proposed activity is human subjects research nor does a not human subjects research NHSR determination mean there is no risk or ethical concern with the proposed activity.\n",
      "10. An NHSR determination simply means review of the activity is outside of the scope of the IRB.\n"
     ]
    }
   ],
   "source": [
    "sentences = [sent.text for sent in doc.sents]\n",
    "\n",
    "print(f'Total sentences extracted: {len(sentences)}')\n",
    "print('First 10 sentences:\\n')\n",
    "for i, sentence in enumerate(sentences[:10], 1):\n",
    "    print(f\"{i}. {sentence}\")"
   ]
  },
  {
   "cell_type": "markdown",
   "id": "2564ffe4-fb1c-48fa-827d-5b643abb75d3",
   "metadata": {},
   "source": [
    "### 2.4. Save Processed Data"
   ]
  },
  {
   "cell_type": "code",
   "execution_count": 13,
   "id": "04669622-126c-40a3-aad7-39aeadc61b69",
   "metadata": {},
   "outputs": [],
   "source": [
    "processed_text_path = os.path.join('data', 'clean', 'nhsr_guidance_clean.txt')\n",
    "os.makedirs(os.path.dirname(processed_text_path), exist_ok=True)"
   ]
  },
  {
   "cell_type": "code",
   "execution_count": 15,
   "id": "279751db-b83e-4b86-94ce-02556f24053b",
   "metadata": {},
   "outputs": [
    {
     "name": "stdout",
     "output_type": "stream",
     "text": [
      "Cleaned text saved to data\\clean\\nhsr_guidance_clean.txt\n"
     ]
    }
   ],
   "source": [
    "with open(processed_text_path, 'w', encoding='utf-8') as f:\n",
    "    f.write(normalized_text)\n",
    "\n",
    "print(f'Cleaned text saved to {processed_text_path}')"
   ]
  },
  {
   "cell_type": "code",
   "execution_count": 16,
   "id": "2e33c9a6-84ec-4525-b1ea-402b5dbef6ea",
   "metadata": {},
   "outputs": [],
   "source": [
    "sentences_json_path = os.path.join('data', 'clean', 'nhsr_guidance_sentences.json')\n",
    "os.makedirs(os.path.dirname(sentences_json_path), exist_ok=True)"
   ]
  },
  {
   "cell_type": "code",
   "execution_count": null,
   "id": "4fb709b9-8b5f-4f97-977b-bb84413ce5de",
   "metadata": {},
   "outputs": [],
   "source": [
    "with open(processed_text_path, 'w', encoding='utf-8') as f:\n",
    "    f.write(normalized_text)"
   ]
  }
 ],
 "metadata": {
  "kernelspec": {
   "display_name": "Python 3 (ipykernel)",
   "language": "python",
   "name": "python3"
  },
  "language_info": {
   "codemirror_mode": {
    "name": "ipython",
    "version": 3
   },
   "file_extension": ".py",
   "mimetype": "text/x-python",
   "name": "python",
   "nbconvert_exporter": "python",
   "pygments_lexer": "ipython3",
   "version": "3.12.5"
  }
 },
 "nbformat": 4,
 "nbformat_minor": 5
}
