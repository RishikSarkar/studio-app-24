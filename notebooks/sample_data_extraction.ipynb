{
 "cells": [
  {
   "cell_type": "markdown",
   "id": "205896e9-3053-4a20-af30-909ded6f0fee",
   "metadata": {},
   "source": [
    "## 1. Importing Dependencies"
   ]
  },
  {
   "cell_type": "code",
   "execution_count": 1,
   "id": "28d91ea0-c2b1-472a-9000-6a6de0743803",
   "metadata": {},
   "outputs": [],
   "source": [
    "# PDF parsing\n",
    "from pdfminer.high_level import extract_text\n",
    "\n",
    "# NLP libraries\n",
    "import spacy\n",
    "\n",
    "# Text processing\n",
    "import re\n",
    "\n",
    "# Data manipulation and visualization\n",
    "import pandas as pd\n",
    "import matplotlib.pyplot as plt\n",
    "import seaborn as sns\n",
    "\n",
    "# JSON data\n",
    "import json\n",
    "\n",
    "# System operations\n",
    "import os"
   ]
  },
  {
   "cell_type": "code",
   "execution_count": 2,
   "id": "36655c8a-605d-40bb-99c1-ad253e2f3295",
   "metadata": {},
   "outputs": [],
   "source": [
    "nlp = spacy.load('en_core_web_sm')"
   ]
  },
  {
   "cell_type": "code",
   "execution_count": 3,
   "id": "09d2d48b-a3cc-4811-b0de-c917e4538d27",
   "metadata": {},
   "outputs": [
    {
     "name": "stdout",
     "output_type": "stream",
     "text": [
      "Sentences: ['We are excited to simplify the IRB approval process!']\n"
     ]
    }
   ],
   "source": [
    "sample_text = 'We are excited to simplify the IRB approval process!'\n",
    "\n",
    "doc = nlp(sample_text)\n",
    "\n",
    "sentences = [sent.text for sent in doc.sents]\n",
    "print(f'Sentences: {sentences}')"
   ]
  },
  {
   "cell_type": "markdown",
   "id": "85c085cb-2b32-44e2-afaf-35b49c0bb4d4",
   "metadata": {},
   "source": [
    "## 2. Sample IRB PDF Parsing"
   ]
  },
  {
   "cell_type": "code",
   "execution_count": 4,
   "id": "18e6d62e-6c6a-449b-aa2f-0283abfcb9fb",
   "metadata": {},
   "outputs": [],
   "source": [
    "pdf_path = os.path.join('data', 'raw', 'nhsr_guidance.pdf')"
   ]
  },
  {
   "cell_type": "markdown",
   "id": "b12503a6-6e51-4378-953b-bda815b893ea",
   "metadata": {},
   "source": [
    "### 2.1. Text Extraction"
   ]
  },
  {
   "cell_type": "code",
   "execution_count": 5,
   "id": "fc307e72-a193-408b-9234-f7ea28082111",
   "metadata": {},
   "outputs": [
    {
     "name": "stdout",
     "output_type": "stream",
     "text": [
      "PDF text extraction successful!\n",
      "First 800 characters of extracted text: Guidance Document \n",
      "Version Date: 5/11/2023 \n",
      "\n",
      "Not Human Subjects Research Determination \n",
      "\n",
      "45CFR46 and 21CFR50 apply to all research involving human subjects conducted, supported, or \n",
      "otherwise subject to regulation by any Federal department or agency that takes appropriate \n",
      "administrative action to make the policy applicable to such research.  As a result, IRBs must first \n",
      "determine that proposed activities meet the definitions of ‘research’ and ‘human subjects’ defined in the \n",
      "regulations. \n",
      "\n",
      "Introduction \n",
      "\n",
      "This document is designed to provide an approach to determining when a proposed activity is human \n",
      "subjects research.  Note, if WCM is not engaged in the research, there is no need to approach the \n",
      "human subjects research definition.  If WCM is engaged, first, the proposed activity must \n"
     ]
    }
   ],
   "source": [
    "try:\n",
    "    text = extract_text(pdf_path)\n",
    "    print('PDF text extraction successful!')\n",
    "    print(f'First 800 characters of extracted text: {text[:800]}')\n",
    "except Exception as e:\n",
    "    print(f'An error occurred during PDF text extraction: {e}')"
   ]
  },
  {
   "cell_type": "markdown",
   "id": "49205bb4-8989-4981-8a9b-fb64447875f4",
   "metadata": {},
   "source": [
    "### 2.2. Text Pre-processing"
   ]
  },
  {
   "cell_type": "code",
   "execution_count": 6,
   "id": "31d521f3-b565-46ed-a728-27eeac691155",
   "metadata": {},
   "outputs": [],
   "source": [
    "def clean_text(text):\n",
    "    text = re.sub(r'Page\\s+\\d+\\s+of\\s+\\d+', '', text) # Remove Page X of Y patterns\n",
    "    \n",
    "    lines = text.split('\\n')\n",
    "    cleaned_lines = [line for line in lines if not re.fullmatch(r'\\w', line.strip())] # Remove lines with only a single character\n",
    "    text = ' '.join(cleaned_lines)\n",
    "    \n",
    "    text = re.sub(r'\\s+', ' ', text) # Remove multiple spaces and newlines\n",
    "    return text.strip()"
   ]
  },
  {
   "cell_type": "code",
   "execution_count": 7,
   "id": "3b341f31-732b-4247-8c74-3d8801d6702d",
   "metadata": {},
   "outputs": [
    {
     "name": "stdout",
     "output_type": "stream",
     "text": [
      "First 800 characters of cleaned text:\n",
      "\n",
      "Guidance Document Version Date: 5/11/2023 Not Human Subjects Research Determination 45CFR46 and 21CFR50 apply to all research involving human subjects conducted, supported, or otherwise subject to regulation by any Federal department or agency that takes appropriate administrative action to make the policy applicable to such research. As a result, IRBs must first determine that proposed activities meet the definitions of ‘research’ and ‘human subjects’ defined in the regulations. Introduction This document is designed to provide an approach to determining when a proposed activity is human subjects research. Note, if WCM is not engaged in the research, there is no need to approach the human subjects research definition. If WCM is engaged, first, the proposed activity must satisfy the defini\n"
     ]
    }
   ],
   "source": [
    "cleaned_text = clean_text(text)\n",
    "\n",
    "print(f'First 800 characters of cleaned text:\\n\\n{cleaned_text[:800]}')"
   ]
  },
  {
   "cell_type": "code",
   "execution_count": 8,
   "id": "87f44e83-87fe-4dab-ac22-9f7873d68af6",
   "metadata": {},
   "outputs": [],
   "source": [
    "def normalize_text(text):\n",
    "    text = re.sub(r'[^\\w\\s\\.,!?;:/]', '', text) # Remove special characters except necessary punctuation (e.g., '/' for dates)\n",
    "    text = re.sub(r'\\s+', ' ', text) # Replace multiple spaces with a single space\n",
    "    return text.strip()"
   ]
  },
  {
   "cell_type": "code",
   "execution_count": 9,
   "id": "20dd6312-08d0-49a4-afe2-45706746decc",
   "metadata": {},
   "outputs": [
    {
     "name": "stdout",
     "output_type": "stream",
     "text": [
      "First 800 characters of normalized text:\n",
      "\n",
      "Guidance Document Version Date: 5/11/2023 Not Human Subjects Research Determination 45CFR46 and 21CFR50 apply to all research involving human subjects conducted, supported, or otherwise subject to regulation by any Federal department or agency that takes appropriate administrative action to make the policy applicable to such research. As a result, IRBs must first determine that proposed activities meet the definitions of research and human subjects defined in the regulations. Introduction This document is designed to provide an approach to determining when a proposed activity is human subjects research. Note, if WCM is not engaged in the research, there is no need to approach the human subjects research definition. If WCM is engaged, first, the proposed activity must satisfy the definition\n"
     ]
    }
   ],
   "source": [
    "normalized_text = normalize_text(cleaned_text)\n",
    "\n",
    "print(f'First 800 characters of normalized text:\\n\\n{normalized_text[:800]}')"
   ]
  },
  {
   "cell_type": "markdown",
   "id": "565fbb66-af05-4584-b1f1-cf26225cb590",
   "metadata": {},
   "source": [
    "### 2.3. Sentence Segmentation"
   ]
  },
  {
   "cell_type": "code",
   "execution_count": 10,
   "id": "98484edc-b9d2-4be2-8996-c36095f7f3b8",
   "metadata": {},
   "outputs": [],
   "source": [
    "doc = nlp(normalized_text)"
   ]
  },
  {
   "cell_type": "code",
   "execution_count": 11,
   "id": "828ad769-f34f-4d1c-8fec-bd5dc539a2ca",
   "metadata": {},
   "outputs": [
    {
     "name": "stdout",
     "output_type": "stream",
     "text": [
      "Total sentences extracted: 165\n",
      "\n",
      "First 10 sentences:\n",
      "\n",
      "1. Guidance Document Version Date: 5/11/2023 Not Human Subjects Research Determination 45CFR46 and 21CFR50 apply to all research involving human subjects conducted, supported, or otherwise subject to regulation by any Federal department or agency that takes appropriate administrative action to make the policy applicable to such research.\n",
      "2. As a result, IRBs must first determine that proposed activities meet the definitions of research and human subjects defined in the regulations.\n",
      "3. Introduction This document is designed to provide an approach to determining when a proposed activity is human subjects research.\n",
      "4. Note, if WCM is not engaged in the research, there is no need to approach the human subjects research definition.\n",
      "5. If WCM is engaged, first, the proposed activity must satisfy the definition of research.\n",
      "6. If the proposed activity meets this definition, and only if it meets this definition, IRBs may then approach the human subjects definition.\n",
      "7. Often researchers feel that if it involves human subjects it must require IRB review; this is not always the case.\n",
      "8. If the proposed activity does not satisfy the research definition first, the involvement of humans as participants is irrelevant, even if sensitive information is being collected.\n",
      "9. It is important to note that risk is not a deciding factor as to whether a proposed activity is human subjects research nor does a not human subjects research NHSR determination mean there is no risk or ethical concern with the proposed activity.\n",
      "10. An NHSR determination simply means review of the activity is outside of the scope of the IRB.\n"
     ]
    }
   ],
   "source": [
    "sentences = [sent.text for sent in doc.sents]\n",
    "\n",
    "print(f'Total sentences extracted: {len(sentences)}\\n')\n",
    "print('First 10 sentences:\\n')\n",
    "for i, sentence in enumerate(sentences[:10], 1):\n",
    "    print(f'{i}. {sentence}')"
   ]
  },
  {
   "cell_type": "markdown",
   "id": "2564ffe4-fb1c-48fa-827d-5b643abb75d3",
   "metadata": {},
   "source": [
    "### 2.4. Save Processed Data"
   ]
  },
  {
   "cell_type": "code",
   "execution_count": 12,
   "id": "04669622-126c-40a3-aad7-39aeadc61b69",
   "metadata": {},
   "outputs": [],
   "source": [
    "processed_text_path = os.path.join('data', 'clean', 'nhsr_guidance_clean.txt')\n",
    "os.makedirs(os.path.dirname(processed_text_path), exist_ok=True)"
   ]
  },
  {
   "cell_type": "code",
   "execution_count": 13,
   "id": "279751db-b83e-4b86-94ce-02556f24053b",
   "metadata": {},
   "outputs": [
    {
     "name": "stdout",
     "output_type": "stream",
     "text": [
      "Cleaned text saved to data\\clean\\nhsr_guidance_clean.txt\n"
     ]
    }
   ],
   "source": [
    "with open(processed_text_path, 'w', encoding='utf-8') as f:\n",
    "    f.write(normalized_text)\n",
    "\n",
    "print(f'Cleaned text saved to {processed_text_path}')"
   ]
  },
  {
   "cell_type": "code",
   "execution_count": 14,
   "id": "2e33c9a6-84ec-4525-b1ea-402b5dbef6ea",
   "metadata": {},
   "outputs": [],
   "source": [
    "sentences_json_path = os.path.join('data', 'clean', 'nhsr_guidance_sentences.json')\n",
    "os.makedirs(os.path.dirname(sentences_json_path), exist_ok=True)"
   ]
  },
  {
   "cell_type": "code",
   "execution_count": 15,
   "id": "4fb709b9-8b5f-4f97-977b-bb84413ce5de",
   "metadata": {},
   "outputs": [
    {
     "name": "stdout",
     "output_type": "stream",
     "text": [
      "Sentences saved to data\\clean\\nhsr_guidance_sentences.json\n"
     ]
    }
   ],
   "source": [
    "with open(sentences_json_path, 'w', encoding='utf-8') as f:\n",
    "    json.dump(sentences, f, ensure_ascii=False, indent=4)\n",
    "\n",
    "print(f'Sentences saved to {sentences_json_path}')"
   ]
  },
  {
   "cell_type": "markdown",
   "id": "3e212535-e9b6-42f0-9b2e-0c07c8077529",
   "metadata": {},
   "source": [
    "## 3. Heading Extraction"
   ]
  },
  {
   "cell_type": "code",
   "execution_count": 16,
   "id": "0280d9a4-f422-4c03-8a02-0a653fe79ec2",
   "metadata": {},
   "outputs": [],
   "source": [
    "known_headings = [\n",
    "    'Not Human Subjects Research Determination',\n",
    "    'Introduction',\n",
    "    'Step 1: Research Definition',\n",
    "    'Step 2: Human Subjects Definition',\n",
    "    'Public Health Surveillance Activities',\n",
    "    'Food and Drug Administration',\n",
    "    'Department of Defense',\n",
    "    'Examples of Not Human Subjects Research NHSR',\n",
    "    'Not Human Subjects Research Determination Checklist',\n",
    "]"
   ]
  },
  {
   "cell_type": "code",
   "execution_count": 17,
   "id": "ad31a5c0-bc1f-4124-9644-2ad447b68ad0",
   "metadata": {},
   "outputs": [],
   "source": [
    "def identify_headings_and_split(sentences, known_headings):\n",
    "    \"\"\"Identify headings within sentences and split sentences accordingly.\n",
    "    When a heading is found within a sentence, split the sentence into:\n",
    "        - before_heading\n",
    "        - heading\n",
    "        - after_heading\n",
    "    Assign before_heading to the previous section,\n",
    "    heading to start a new section,\n",
    "    and after_heading to the new section's content.\n",
    "\n",
    "    Args:\n",
    "    ----\n",
    "        sentences (list): List of sentence strings.\n",
    "        known_headings (list): List of known heading titles.\n",
    "\n",
    "    Returns:\n",
    "    -------\n",
    "        tuple:\n",
    "            new_sentences (list): Updated list of sentences with headings as separate entries.\n",
    "            headings_found (list): List of tuples (heading_title, new_sentence_index)\n",
    "            \n",
    "    \"\"\"\n",
    "    new_sentences = []\n",
    "    headings_found = []\n",
    "\n",
    "    # Precompile patterns for efficiency (case-sensitive)\n",
    "    # Order by length to ensure longer headings are matched first\n",
    "    sorted_headings = sorted(known_headings, key=lambda x: len(x), reverse=True)\n",
    "    heading_patterns = {heading: re.compile(re.escape(heading)) for heading in sorted_headings}\n",
    "\n",
    "    for i, sentence in enumerate(sentences):\n",
    "        sentence_processed = sentence\n",
    "        headings_in_sentence = []\n",
    "\n",
    "        # Find the first occurrence of each heading in the sentence\n",
    "        for heading, pattern in list(heading_patterns.items()):\n",
    "            match = pattern.search(sentence)\n",
    "            if match:\n",
    "                headings_in_sentence.append((match.start(), match.end(), heading))\n",
    "                # Remove the heading from patterns to prevent future matches\n",
    "                del heading_patterns[heading]\n",
    "\n",
    "        if not headings_in_sentence:\n",
    "            # No headings found; append the sentence as is\n",
    "            new_sentences.append(sentence)\n",
    "            continue\n",
    "\n",
    "        # Sort headings by their start position to handle them sequentially\n",
    "        headings_in_sentence.sort(key=lambda x: x[0])\n",
    "\n",
    "        last_pos = 0\n",
    "        for start, end, heading in headings_in_sentence:\n",
    "            # Extract text before the heading\n",
    "            if start > last_pos:\n",
    "                before = sentence[last_pos:start].strip()\n",
    "                if before:\n",
    "                    new_sentences.append(before)\n",
    "\n",
    "            # Append the heading as a separate sentence\n",
    "            new_sentences.append(heading)\n",
    "            headings_found.append((heading, len(new_sentences)-1))\n",
    "\n",
    "            last_pos = end\n",
    "\n",
    "        # Extract any remaining text after the last heading\n",
    "        if last_pos < len(sentence):\n",
    "            after = sentence[last_pos:].strip()\n",
    "            if after:\n",
    "                new_sentences.append(after)\n",
    "\n",
    "    return new_sentences, headings_found"
   ]
  },
  {
   "cell_type": "code",
   "execution_count": 18,
   "id": "50d3257f-6388-4c64-bf40-031bb5398653",
   "metadata": {},
   "outputs": [],
   "source": [
    "new_sentences, headings_found = identify_headings_and_split(sentences, known_headings)"
   ]
  },
  {
   "cell_type": "code",
   "execution_count": 19,
   "id": "45de3e06-ef30-4e5b-88fd-a615be98ea4e",
   "metadata": {},
   "outputs": [
    {
     "name": "stdout",
     "output_type": "stream",
     "text": [
      "Total headings found: 9 out of 9 \n",
      "\n",
      "Headings:\n",
      "\n",
      "('Not Human Subjects Research Determination', 1)\n",
      "('Introduction', 4)\n",
      "('Step 1: Research Definition', 14)\n",
      "('Step 2: Human Subjects Definition', 35)\n",
      "('Public Health Surveillance Activities', 43)\n",
      "('Food and Drug Administration', 60)\n",
      "('Department of Defense', 65)\n",
      "('Examples of Not Human Subjects Research NHSR', 73)\n",
      "('Not Human Subjects Research Determination Checklist', 129)\n",
      "\n",
      "Updated Sentences:\n",
      "\n",
      "1. Guidance Document Version Date: 5/11/2023\n",
      "2. Not Human Subjects Research Determination\n",
      "3. 45CFR46 and 21CFR50 apply to all research involving human subjects conducted, supported, or otherwise subject to regulation by any Federal department or agency that takes appropriate administrative action to make the policy applicable to such research.\n",
      "4. As a result, IRBs must first determine that proposed activities meet the definitions of research and human subjects defined in the regulations.\n",
      "5. Introduction\n",
      "6. This document is designed to provide an approach to determining when a proposed activity is human subjects research.\n",
      "7. Note, if WCM is not engaged in the research, there is no need to approach the human subjects research definition.\n",
      "8. If WCM is engaged, first, the proposed activity must satisfy the definition of research.\n",
      "9. If the proposed activity meets this definition, and only if it meets this definition, IRBs may then approach the human subjects definition.\n",
      "10. Often researchers feel that if it involves human subjects it must require IRB review; this is not always the case.\n"
     ]
    }
   ],
   "source": [
    "print(f'Total headings found: {len(headings_found)} out of {len(known_headings)} \\n')\n",
    "print('Headings:\\n')\n",
    "for heading in headings_found:\n",
    "    print(heading)\n",
    "\n",
    "print(f'\\nUpdated Sentences:\\n')\n",
    "for i, sentence in enumerate(new_sentences[:10], 1):\n",
    "    print(f'{i}. {sentence}')"
   ]
  },
  {
   "cell_type": "markdown",
   "id": "838edbd8-f471-40ce-9de1-ff1214091888",
   "metadata": {},
   "source": [
    "## 4. Hierarchy Structuring"
   ]
  },
  {
   "cell_type": "code",
   "execution_count": 20,
   "id": "51f84ff3-b101-498d-b797-192ccad7c49d",
   "metadata": {},
   "outputs": [],
   "source": [
    "import pprint"
   ]
  },
  {
   "cell_type": "code",
   "execution_count": 21,
   "id": "c7127d34-33e5-4f5e-a71a-28bb51f88f85",
   "metadata": {},
   "outputs": [],
   "source": [
    "def structure_hierarchy(new_sentences, headings_found, known_headings):\n",
    "    \"\"\"Structures the document into a hierarchical dictionary based on identified headings.\n",
    "\n",
    "    Args:\n",
    "    ----\n",
    "        new_sentences (list): Updated list of sentences with headings as separate entries.\n",
    "        headings_found (list): List of tuples (heading_title, new_sentence_index).\n",
    "        known_headings (list): List of known heading titles.\n",
    "\n",
    "    Returns:\n",
    "    -------\n",
    "        dict: Hierarchical structure of the document.\n",
    "        \n",
    "    \"\"\"\n",
    "    structured_data = {}\n",
    "    current_heading = None\n",
    "\n",
    "    # Create a set of headings for quick lookup\n",
    "    headings_set = set([heading for heading, idx in headings_found])\n",
    "\n",
    "    for sentence in new_sentences:\n",
    "        if sentence in headings_set:\n",
    "            current_heading = sentence\n",
    "            structured_data[current_heading] = {'Content': []}\n",
    "        else:\n",
    "            if current_heading:\n",
    "                structured_data[current_heading]['Content'].append(sentence)\n",
    "            else:\n",
    "                if 'General Information' not in structured_data:\n",
    "                    structured_data['General Information'] = {'Content': []}\n",
    "                structured_data['General Information']['Content'].append(sentence)\n",
    "\n",
    "    return structured_data"
   ]
  },
  {
   "cell_type": "code",
   "execution_count": 22,
   "id": "f2f93618-9efa-417d-94ca-8301f00e13ac",
   "metadata": {},
   "outputs": [
    {
     "name": "stdout",
     "output_type": "stream",
     "text": [
      "Hierarchical Structure:\n",
      "\n",
      "General Information:\n",
      "{'Content': ['Guidance Document Version Date: 5/11/2023']}\n",
      "\n",
      "\n",
      "Not Human Subjects Research Determination:\n",
      "{'Content': ['45CFR46 and 21CFR50 apply to all research involving human subjects conducted, supported, or otherwise subject to regulation by any Federal department or agency that takes appropriate administrative action to make the policy applicable to such research.', 'As a result, IRBs must first determine that proposed activities meet the definitions of research and human subjects defined in the regulations.']}\n",
      "\n",
      "\n",
      "Introduction:\n",
      "{'Content': ['This document is designed to provide an approach to determining when a proposed activity is human subjects research.', 'Note, if WCM is not engaged in the research, there is no need to approach the human subjects research definition.', 'If WCM is engaged, first, the proposed activity must satisfy the definition of research.', 'If the proposed activity meets this definition, and only if it meets this definition, IRBs may then approach the human subjects definition.', 'Often researchers feel that if it involves human subjects it must require IRB review; this is not always the case.', 'If the proposed activity does not satisfy the research definition first, the involvement of humans as participants is irrelevant, even if sensitive information is being collected.', 'It is important to note that risk is not a deciding factor as to whether a proposed activity is human subjects research nor does a not human subjects research NHSR determination mean there is no risk or ethical concern with the proposed activity.', 'An NHSR determination simply means review of the activity is outside of the scope of the IRB.', 'IRBs appropriately excluding themselves from review of NHSR does not preclude an institution from establishing its own policy surrounding the review of protocols that fall outside of IRB purview nor does it preclude ethical conduct.']}\n",
      "\n",
      "\n",
      "Step 1: Research Definition:\n",
      "{'Content': ['Research is a systematic investigation designed to develop or contribute to generalizable knowledge.', 'A systematic investigation is an activity that involves a prospective plan that incorporates data collection qualitative or quantitative and data analysis to answer a question this can include testing a hypothesis, establishing clinical practice standards where none previously exists, or establishing a registry or database from which a hypothesis will be tested.', 'Specifically, a systematic investigation involves a local and organized approach to data collection and analysis, developed in advance of project initiation including qualities of: o One or more specific questions of interest, often framed as hypotheses, that the project will seek to answer o Data collection methods appropriate to address the questions o Data analysis plans appropriate for the types of data collected o', 'An ability to use the analyzed data to answer the questionss Activities designed with intent to develop or contribute to generalizable knowledge are those designed to draw general conclusions, inform policy, or generalize findings beyond a single individual or internal program.', 'A study designed to develop or contribute to generalizable knowledge intentionally links to, applies, and/or expands upon existing knowledge.', 'The methods allow for replication and for comparisons with data collected from different samples of the same population, and the results apply to people beyond those directly studied.', 'Qualities include: o Basis in theoretical framework of established knowledge Identification of a gap in knowledge that the project plans to address Not Human Subjects Research Identification and description of one or more specific populations of interest o Unbiased sampling methods i.e., random or probability sampling, when feasible, that allow for the recruitment of samples representative of the populations o Operationalization of variables and constructs o Data collection plans employing measurement tools and techniques with established satisfactory reliability and validity o Data analysis plans using techniques consistent with those employed in the literature of the theoretical framework and considered appropriate for the types of data collected o', 'An ability and plan to use the collected and analyzed data to draw meaningful conclusions about the result and link these back to the theoretical framework and identified gap in knowledge Note, specifically, IRBs must approach the current proposed project when thinking about generalizable knowledge rather than future goals for subsequent related research steps.', 'Also, the intent to publish or present findings does not satisfy the criteria for generalizable knowledge.', 'Publication/dissemination is not a determining factor for whether an activity is human subjects research requiring review and approval by the IRB.', 'Results do not have to be published or presented to qualify the activity as research.', 'In summary, the proposed project must be a systematic investigation AND designed to develop or contribute to generalizable knowledge, satisfying the qualities described above, to be considered research according to Federal regulation.', 'Two questions that will be helpful in determining whether the proposed activity is research are: 1.', 'What do the researchers intend to do in the proposed study?', 'In other words, what is the true purpose at this stage?', '2.', 'What do the researchers intend to do with the results?', 'Will they simply improve upon a tool/program/etc.', 'QA/QI or are they attempting to validate a tool/program/etc.', 'that has already been developed?']}\n",
      "\n",
      "\n",
      "Step 2: Human Subjects Definition:\n",
      "{'Content': ['45CFR46 defines a human subject as a living individual about whom an investigator whether professional or student conducting research: i obtains information or biospecimens through intervention or interaction with the individual and uses, studies, or analyzes the information or biospecimens, or ii obtains, uses, studies, analyzes, or generates identifiable private information or identifiable biospecimens.', 'Intervention: Physical procedures by which data are gathered e.g., venipuncture and manipulations of the participant or the participants environment that are performed for research purposes.', 'Interaction: Communication or interpersonal contact between the investigator and participant Private information: data about behavior that occurs in a context in which an individual can reasonably expect that no observation or recording is taking place, or data provided for specific purposes in which the individual can reasonably expect that it will not be made public such as a medical record Not Human Subjects Research Identifiable: individual identities can be readily ascertained or associated with the information or biospecimens collected by the investigator Note, the researcher may be conducting a systematic investigation that involves collecting information from people this includes identifiable data, but it may not be about people or human behavior.', 'Also, the standard for identifiability is specifically in the context of accessing data.', 'Anonymous interactions/interventions are still human research.', 'Two questions that will be helpful in determining whether the proposed activity is about human subjects are: 1. Are data being collected about a what or whom?', '2. Can an individual be linked with his/her/their data points?']}\n",
      "\n",
      "\n",
      "Public Health Surveillance Activities:\n",
      "{'Content': ['Public health surveillance activities, including the collection and testing of information or biospecimens, conducted, supported, requested, ordered, required, or authorized by a public health authority are deemed not to be research per the Revised Common Rule.', 'Such activities are limited to those necessary to allow a public health authority to identify, monitor, assess, or investigate potential public health signals, onsets of disease outbreaks, or conditions of public health importance including trends, signals, risk factors, patterns in diseases, or increases in injuries from using consumer projects.', 'Such activities include those associated with providing timely situational awareness and priority setting during the course of an event or crisis that threatens public health including national or manmade disasters.', 'A public health authority is defined as an agency or authority of the United States, a state, a territory, a political subdivision of a state or territory, an Indian tribe, or a foreign government, or a person or entity acting under a grant of authority from or contract with such public agency, including the employees or agents of such public agency or its contractors or persons or entities to whom it has granted authority, that is responsible for public health matters as part of its official mandate.', 'For an activity to be deemed a public health surveillance activity, and thus not research, it must meet the following three criteria:', '1.', 'The activity must be a public health surveillance activity; 2.', 'The activity must be conducted, supported, requested, ordered, required, or authorized by a public health authority; and 3.', 'The activity must be limited to that necessary to allow a public health authority to identify, monitor, assess, or investigate potential public health signals, onsets of disease outbreaks, or conditions of public health importance including trends, signals, risk factors, patterns in diseases, or increases in injuries from using consumer products Examples include: Safety and injury surveillance activities designed to enable a public health authority to identify, monitor, assess, and investigate potential safety signals for a specific product or class of products.', 'Surveillance activities designed to enable a public health authority to: Identify unexpected changes in the incidence or prevalence of a certain disease in a defined geographic region where specific public health concerns have been raised.', 'Not Human Subjects Research Identify the prevalence or incidence of known risk factors associated with a health problem in the context of a domestic or international public health emergency.', 'o', 'Locate the range and source of a disease outbreak or to identify cases of a disease outbreak.', 'o', 'Detect the onset of disease outbreaks or provide timely situational awareness during the course of an event or crisis that threatens the public health, such as a natural or man made disaster.', 'Identify the prevalence or incidence of a condition of public health importance, known risk factors associated with a condition of public health importance, or behaviors or medical practices related to prevalence of a known condition of public health importance e.g., surveillance of the prevalence of tobacco use, exposure to secondhand smoke, lung cancer, or use of smoking cessation treatments.']}\n",
      "\n",
      "\n",
      "Food and Drug Administration:\n",
      "{'Content': ['In addition to the definitions described above, the Food and Drug Administration FDA provides the following definitions for research involving human subjects: Clinical investigation research: Any experiment that involves a test article and one or more human subjects that is either subject to requirements for prior submission to the FDA under section 505i, or 520g of the act, or is not subject to requirements for prior submission to the FDA under these sections of the act, but the results of which are intended to be submitted to, or held for inspection by the FDA as part of an application for a research or marketing permit.', 'The term does not include experiments that are subject to the provision of 21 CFR 58, regarding nonclinical laboratory studies.', '21 CFR 50.3c Test article: Any drug including a biological product for human use, medical device for human use, human food additive, color additive, electronic product, or any other article subject to regulation under the act or under sections 351 and 354360F of the Public Health Service Act Human Subject: An individual who is or becomes a participant in research, either as a recipient of the test article or as a control.', 'A subject may be either a healthy human or a patient.']}\n",
      "\n",
      "\n",
      "Department of Defense:\n",
      "{'Content': ['In addition to the definitions of research and human subject per 45CFR46, the Department of Defense DoD provides an additional definition for research involving a human being as an experimental subject: An activity, for research purposes, where there is an intervention or interaction with a living individual for the primary purpose of obtaining data regarding the effect of the intervention or interaction.', 'Research involving a human being as an experimental subject is a subset of research involving human subjects.', 'Examples of interventions or interactions include, but are not limited to, a physical procedure, a drug, a manipulation of the subject or subjects environment, the withholding of an intervention that would have been undertaken if not for the research purpose.', 'This definition does not apply to secondary use or observational studies.', 'The following activities conducted or supported by the DoD are not research involving human subjects: Activities carried out solely for purposes of diagnosis, treatment, or prevention of injury and disease in Service members and other mission essential personnel under force health Not Human Subjects Research protection programs of the DoD, including health surveillance pursuant to section 1074f of the Reference g and the use of medical products consistent with DoD instruction 6200.02', 'Authorized health and medical activities as part of the reasonable practice of medicine or other health professions undertaken for the sole purpose of patient treatment Activities performed for the sole purpose of medical quality assurance consistent with 10 USC 1102 and DoDD 6025.13', 'Activities performed solely for an Operational Test and Evaluation OTE project where the activities and project meet the definition of OTE as defined in 10 USC 139a2A Activities performed solely for assessing compliance of individuals and organizations with requirements applicable to military, civilian, or contractor personnel or to organizational unites, including such activities as occupational drug testing, occupational health and safety reviews, network monitoring, and monitoring for compliance with requirements for protection of classified information Activities, including program evaluation, customer satisfaction surveys, user surveys, outcome reviews, and other methods, designed solely to assess the performance of DoD programs where the results of the evaluation are only for the use of Government officials responsible for the operation or oversight of the program being evaluated and are not intended for generalized use beyond such program Survey, interview, or surveillance activities and related analyses performed solely for authorized foreign intelligence collection purposes, as authorized by DoDD 5240.01']}\n",
      "\n",
      "\n",
      "Examples of Not Human Subjects Research NHSR:\n",
      "{'Content': ['The following examples are activities that are generally not considered to be human subjects research because they do not meet the research, human subjects, or both definitions.', 'Please note, there are always exceptions to the rule, and when unsure, please contact the HRPO Team for assistance.', '1. Program Evaluation/Quality Assurance Review/Quality Improvement Project.', 'The activity is limited to program evaluation, quality assurance, or quality improvement activities designed specifically to evaluate, assure, or improve performance within a department, classroom, or hospital setting.', 'Specifically, this does not satisfy the definition of research.', 'Note: The purpose of a QA study is to assess the quality of a program/product.', 'The purpose of Program Evaluation PE is to assess that a program is doing what it is intended to do.', 'Generally QI is designed for the purpose of improving the quality of a service, a program, a process, etc.. A QA, QI or PE study should present no change in risk to participants.', 'These studies are mechanisms to assure that a service, a program, or a process functions optimally.', 'Such projects are usually for internal auditing purposes only.', 'If you can answer yes to all of the following questions, the activity is most likely not human subjects research: 1 Will you simply monitor an existing process this may include evidencebased practice for which there will be no manipulation of the existing process?', '2', 'For QA or PE studies, will physicians or caregivers parents, teachers, therapists, etc. provide usual and customary care regardless of the conduct of the study?', '3', 'Does the study involve collection of data to which the investigator routinely has access as part of his or her responsibilities within the institution to monitor data associated with, for example: treatment, cost containment, performance, or compliance?', 'Not Human Subjects Research Note that an evaluation, assurance review, or improvement project designed specifically for a particular setting may yield useful information for similar entities, and may still not satisfy the definition of human subjects research.', '2.', 'Case Report The project consists of a case report or series which describes an interesting treatment, presentation, or outcome.', 'A critical component is that nothing was done to the patients with prior research intent.', 'Additionally, given the small n, generally these studies do not satisfy the definition of research.', 'Note that HIPAA or other state or local laws may still apply to this activity.', 'Please refer researchers to the Privacy Office as needed.', '3. CourseRelated Activity', 'The project is limited to one or more courserelated activities designed specifically for educational or teaching purposes where data are collected from and about students as part of routine class exercises or assignments and otherwise do not meet the definition of Human Research.', 'Specifically, this does not satisfy the definition of research.', 'Note that some courserelated activities, even those conducted by students, may yield information suggesting additional investigation or analysis.', '4.', 'Journalistic or Documentary Activity including Oral History The activity is limited to investigations or interviews structured or openended that focus on specific events current or historical, views, etc.', 'Such investigations or interviews may be reported or published in any medium, e.g., print newspaper, documentary video, online magazine.', 'Specifically, this does not meet the definition of research.', '5. Research Using Public or NonIdentifiable Private Information about Living Individuals', 'The activity is limited to analyzing data about living individuals 1 where the data have been retrieved by the investigator from public, nonrestricted data sets or 2 where the private data have been provided to the investigator without any accompanying information by which the investigator could identify the individuals.', 'Specifically, this does not meet the definition of human subjects.', 'Note that deidentified data according to HIPAA may be identifiable according to the DHHS definition of human subjects.', '6. Research Using Health Information from Deceased Individuals', 'This activity is limited to analyzing data identifiable or not about deceased individuals.', 'Specifically, this does not meet the definition of human subjects.', 'Note also that HIPAA or other state or local laws may still apply to this activity.', 'Please refer researchers to the Privacy Office as needed.', '7. Instrument/Questionnaire/Tool/Software/Hardware Development', 'This activity is limited to interacting with individuals in order to obtain feedback on the types of questions which could or should be used to develop an instrument, tool, software, hardware, or questionnaire.', 'Sometimes, these projects are referred to as human in the loop studies, as the researcher simply needs a human to interact with the tool in order to continue development.', 'The focus is on the development and construction of a tool and not on the individuals who are providing the feedback on the questions being developed.', 'This will be true even when the feedback may be specifically sought from an identified group of people most likely to be affected by the topic of the instrument, tool, hardware, software, survey, or questionnaire.', 'The development stage of the project specifically does not satisfy the definition of research.', 'Not Human Subjects Research Note that once the process gets to the level of testing discriminant, concurrent or predictive validity, or the project goes beyond the scope of development, the activity may need to be reclassified as human subject research.', '8. Criminal Justice Activities Collection and analysis of information, biospecimens, or records by or for a criminal justice agency for activities authorized by law or court order solely for criminal justice or criminal investigative purposes.', '9.', 'Homeland Security/National Security Authorized operational activities as determined by each agency in support of intelligence, homeland security, defense, or other national security missions.', 'Sources: 1. https://www.hhs.gov/ohrp/educationandoutreach/onlineeducation/humanresearchprotectiontraining/lesson2 whatishumansubjectsresearch/index.html 2.', 'https://www.hhs.gov/ohrp/regulationsandpolicy/requestsforcomments/draftguidanceactivitiesdeemednotbe researchpublichealthsurveillance/index.html 3.', 'https://www.hhs.gov/sites/default/files/ohrpwhatisresearchandwhatitisnot.pdf 4.', '45CFR46 5.', '21CFR50 6.', 'DoD Instruction 3216.02 Not Human Subjects Research NHSR Determination Checklist Version Date: 5/11/2023']}\n",
      "\n",
      "\n",
      "Not Human Subjects Research Determination Checklist:\n",
      "{'Content': ['Research 1.', 'Is the activity a systematic investigation, including research development, testing, and evaluation?', 'Yes', 'No A systematic investigation is an activity that involves a prospective plan that incorporates data collection quantitative or qualitative and data analysis to answer a question this can include testing a hypothesis, establishing clinical practice standards where none previously exists, or establishing a registry or database from which a hypothesis will be tested.', '2. Is the activity designed to develop or contribute to generalizable knowledge?', 'Yes', 'No Activities designed with intent to develop or contribute to generalizable knowledge are those designed to draw general conclusions, inform policy, or generalize findings beyond a single individual or an internal program.', 'NOTE:', 'The intent to develop or contribute to generalizable knowledge makes an activity research.', 'Publication/dissemination is not a determining factor for whether an activity is human research requiring review and approval by the IRB.', 'Results do not have to be published or presented to qualify the activity as research.', 'If you have answered no to any of the above, this is NHSR per the DHHS and no IRB review/approval is required.', 'If FDA may apply, continue with this form.', 'If you answered yes to both questions or if you are not sure, please continue with this form.', '3. Does the project involve a test article subject to FDA regulation, requiring Yes', 'No prior submission to the FDA or for which results will be submitted to the FDA as part of a research marketing permit?', 'A test article is any drug including a biological product for human use, medical device for human use, human food additive, color additive, electronic product, or any other article subject to regulation under the act or under sections 351 and 354360F of the Public Health Service Act If you have answered no to the above, you may end here this is NHSR per the FDA and no IRB review/approval is required.', 'If you answered yes or if you are not sure, please continue.', 'Note, if DoD conducted or funded, review NHSR Guidance document for activities that are and are not human subjects research beyond those described in 45CFR46.', 'Public Health Surveillance Is the project a public health surveillance activity?', 'Yes', 'No See Guidance document for definitions.', 'NOTE:', 'Public health surveillance activities are not designed to develop or contribute to generalizable knowledge, but rather to collect information to determine the magnitude of a problem or to improve public health.', 'If you answered yes to the above question, you may end the form here.', 'This is NHSR and no IRB review/approval is required.', 'If you answered no or if you are not sure, please continue.', 'Human Subjects 1.', 'Is the information or biospecimen obtained or used for research about living individuals?', 'Yes', 'No If you answered no to the above question, you may end the form here.', 'This is NHSR, no IRB review/approval is required.', 'If you answered yes or if you are not sure, please continue.', 'Yes 2. Does the research involve interaction or intervention with humans?', 'Interaction: includes communication or interpersonal contact between the investigator and subject Intervention: includes both physical procedures by which information or biospecimens are gathered e.g., venipuncture and manipulations of the subject or subjects environment that are performed for research purposes 3.', 'Does the research obtain, use, study, analyze, or generate identifiable', 'Yes', 'No No private information or identifiable biospecimens?', 'Identifiable private information/biospecimen information/biospecimen for which the identity of the subject is or may be readily ascertained by someone on the research team or associated with the information/biospecimen.', '4. Does the research involve human subjects healthy or patients who will No Yes serve as the recipient of a test article or as a control?', 'A test article is any drug including a biological product for human use, medical device for human use, human food additive, color additive, electronic product, or any other article subject to regulation under the act or under sections 351 and 354360F of the Public Health Service Act If you have answered no to all of the above questions, this is NHSR.', 'No IRB review/approval is required.', 'If you answered yes to any of the above questions, this activity is human subjects research.', 'If you are unsure, please contact the HRPO Team for guidance.', 'Note, if DoD conducted or funded, review NHSR Guidance document for activities that are and are not human subjects research beyond those described in 45CFR46.', 'Not Human Subjects Research']}\n",
      "\n",
      "\n"
     ]
    }
   ],
   "source": [
    "hierarchical_data = structure_hierarchy(new_sentences, headings_found, known_headings)\n",
    "\n",
    "print('Hierarchical Structure:\\n')\n",
    "for data in hierarchical_data:\n",
    "    print(f'{data}:\\n{hierarchical_data[data]}\\n\\n')"
   ]
  },
  {
   "cell_type": "code",
   "execution_count": null,
   "id": "ef4f9963-1153-4d26-a3c7-6c89bf360c19",
   "metadata": {},
   "outputs": [],
   "source": []
  }
 ],
 "metadata": {
  "kernelspec": {
   "display_name": "Python 3 (ipykernel)",
   "language": "python",
   "name": "python3"
  },
  "language_info": {
   "codemirror_mode": {
    "name": "ipython",
    "version": 3
   },
   "file_extension": ".py",
   "mimetype": "text/x-python",
   "name": "python",
   "nbconvert_exporter": "python",
   "pygments_lexer": "ipython3",
   "version": "3.12.5"
  }
 },
 "nbformat": 4,
 "nbformat_minor": 5
}
